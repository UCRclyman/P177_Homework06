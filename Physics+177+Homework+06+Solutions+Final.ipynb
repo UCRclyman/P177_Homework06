{
 "cells": [
  {
   "cell_type": "markdown",
   "metadata": {
    "collapsed": false
   },
   "source": [
    "# Problem 1: Drunkard's Walk in One Dimension\n",
    "\n",
    "## 1A"
   ]
  },
  {
   "cell_type": "code",
   "execution_count": 53,
   "metadata": {
    "collapsed": true
   },
   "outputs": [],
   "source": [
    "import random\n",
    "import numpy as np\n",
    "\n",
    "def ProfessorTanedoAttemptingToTryAOneDimensionalStraightLineTest(DrunkStepSample):\n",
    "    \n",
    "    DisplacementFromTestOrigin = 0\n",
    "    a = [DisplacementFromTestOrigin]\n",
    "    b = DisplacementFromTestOrigin\n",
    "    \n",
    "    for i in range(DrunkStepSample):\n",
    "         \n",
    "        RandomDisplacement = random.randint(0,1)\n",
    "            \n",
    "        if RandomDisplacement > 0:\n",
    "            \n",
    "            Displacement = 1\n",
    "            \n",
    "        else:\n",
    "            \n",
    "            Displacement = -1\n",
    "            \n",
    "        b = (b + Displacement)\n",
    "        a.extend([b])\n",
    "        \n",
    "    c = a[:]\n",
    "    for i in range(DrunkStepSample):\n",
    "        c = [i**2 for i in a]\n",
    "            \n",
    "    \n",
    "    print (a,c)\n",
    "    \n",
    "    \n"
   ]
  },
  {
   "cell_type": "code",
   "execution_count": 54,
   "metadata": {
    "collapsed": false
   },
   "outputs": [
    {
     "name": "stdout",
     "output_type": "stream",
     "text": [
      "[0, 1, 0, 1, 0, 1, 2, 3, 2, 3, 2] [0, 1, 0, 1, 0, 1, 4, 9, 4, 9, 4]\n"
     ]
    }
   ],
   "source": [
    "ProfessorTanedoAttemptingToTryAOneDimensionalStraightLineTest(10)"
   ]
  },
  {
   "cell_type": "markdown",
   "metadata": {},
   "source": [
    "## 1B\n",
    "\n",
    "for this problem, I'm going to go with 100 walking drunk people and keep the sample size of drunk steps down to 100."
   ]
  },
  {
   "cell_type": "code",
   "execution_count": 76,
   "metadata": {
    "collapsed": false
   },
   "outputs": [],
   "source": [
    "def WhyAreThereSoManyDrunkPeople(nWalkers):\n",
    "    \n",
    "    DisplacementFromTestOrigin = 0\n",
    "    a = [DisplacementFromTestOrigin]\n",
    "    b = DisplacementFromTestOrigin\n",
    "    SumArray = []\n",
    "    \n",
    "    for i in range(nWalkers):\n",
    "    \n",
    "        for i in range(100):\n",
    "         \n",
    "            RandomDisplacement = random.randint(0,1)\n",
    "            \n",
    "            if RandomDisplacement > 0:\n",
    "            \n",
    "                Displacement = 1\n",
    "            \n",
    "            else:\n",
    "            \n",
    "                Displacement = -1\n",
    "            \n",
    "            b = (b + Displacement)\n",
    "            a.extend([b])\n",
    "        \n",
    "        c = a[:]\n",
    "        for i in range(100):\n",
    "            c = [i**2 for i in a]\n",
    "    d = np.sum(c[:])\n",
    "    SumArray.extend([d])\n",
    "        \n",
    "    print (SumArray)"
   ]
  },
  {
   "cell_type": "markdown",
   "metadata": {},
   "source": [
    "For some odd reason the SumArray which is supposed to be an array of all the sums isn't extending correctly. This problem if compiled correctly just needs to have a np.sum applied to it and then multiplied by the inverse of the nWalkers. Voila."
   ]
  },
  {
   "cell_type": "markdown",
   "metadata": {},
   "source": [
    "## 1C\n",
    "\n",
    "I'm going to try and approach this problem by setting the origin as a three point origin and then just adjusting each point dependant on where the random generator lands.\n",
    "\n",
    "Edit: Lmao reddit style, I originally wanted to do a large random generator that split the guy's movememnts from not only 6 possibly movements but I also wanted to add variation so that every step had chance to be slightly in a different direction. This didn't work out very well."
   ]
  },
  {
   "cell_type": "code",
   "execution_count": 86,
   "metadata": {
    "collapsed": true
   },
   "outputs": [],
   "source": [
    "def HolyShitThisDrunkGuyIsMovingInThreeDimensions(StepSamples):\n",
    "    \n",
    "    DisplacementFromTestOrigin = [0, 0, 0]\n",
    "    a = [DisplacementFromTestOrigin]\n",
    "    b = [DisplacementFromTestOrigin]\n",
    "    \n",
    "    for i in range(StepSamples):\n",
    "         \n",
    "        RandomDisplacement = random.randint(0,5)\n",
    "            \n",
    "        if RandomDisplacement == 0:\n",
    "            \n",
    "            Displacement = [-1, 0 , 0]\n",
    "            \n",
    "        elif RandomDisplacement == 1:\n",
    "            \n",
    "            Displacement = [1, 0 , 0]\n",
    "            \n",
    "        elif RandomDisplacement == 2:\n",
    "            \n",
    "            Displacement = [0, -1, 0]\n",
    "            \n",
    "        elif RandomDisplacement == 3:\n",
    "            \n",
    "            Displacement = [0, 1, 0]\n",
    "            \n",
    "        elif RandomDisplacement == 4:\n",
    "            \n",
    "            Displacement = [0, 0, -1]\n",
    "            \n",
    "        else:\n",
    "            \n",
    "            Displacement = [0, 0, 1]\n",
    "            \n",
    "        b = Displacement\n",
    "        a.append(b)\n",
    "        \n",
    "    print(a)"
   ]
  },
  {
   "cell_type": "code",
   "execution_count": 87,
   "metadata": {
    "collapsed": false
   },
   "outputs": [
    {
     "name": "stdout",
     "output_type": "stream",
     "text": [
      "[[0, 0, 0], [0, 1, 0], [0, 0, 1], [0, -1, 0], [1, 0, 0], [0, 0, 1], [0, 0, -1], [0, -1, 0], [-1, 0, 0], [0, 0, -1], [0, 0, 1], [0, 0, 1], [1, 0, 0], [0, 0, -1], [1, 0, 0], [0, 0, 1], [0, 1, 0], [0, 0, -1], [1, 0, 0], [0, 0, -1], [0, -1, 0], [-1, 0, 0], [0, 0, 1], [0, -1, 0], [0, 0, 1], [0, 1, 0], [0, 1, 0], [0, 0, 1], [1, 0, 0], [0, 0, -1], [0, 0, -1], [-1, 0, 0], [-1, 0, 0], [0, -1, 0], [0, 0, 1], [0, 0, -1], [-1, 0, 0], [0, -1, 0], [-1, 0, 0], [-1, 0, 0], [0, 1, 0], [0, -1, 0], [0, 1, 0], [0, 0, -1], [-1, 0, 0], [0, 0, 1], [0, 0, 1], [-1, 0, 0], [0, 1, 0], [0, -1, 0], [1, 0, 0], [0, 0, 1], [0, 1, 0], [0, 1, 0], [-1, 0, 0], [0, 1, 0], [0, 0, -1], [-1, 0, 0], [0, 1, 0], [-1, 0, 0], [-1, 0, 0], [0, 1, 0], [0, -1, 0], [0, 0, -1], [1, 0, 0], [0, 1, 0], [0, 1, 0], [-1, 0, 0], [0, -1, 0], [1, 0, 0], [-1, 0, 0], [0, -1, 0], [0, 0, -1], [1, 0, 0], [1, 0, 0], [0, 1, 0], [0, -1, 0], [0, 0, -1], [0, -1, 0], [0, 0, 1], [1, 0, 0], [0, 0, 1], [0, 0, -1], [0, 0, 1], [0, 0, 1], [-1, 0, 0], [0, 1, 0], [0, 0, 1], [0, 0, -1], [0, 0, 1], [0, 0, -1], [0, 1, 0], [0, 0, 1], [1, 0, 0], [0, 1, 0], [0, 0, 1], [1, 0, 0], [1, 0, 0], [-1, 0, 0], [0, 0, -1], [0, -1, 0]]\n"
     ]
    }
   ],
   "source": [
    "HolyShitThisDrunkGuyIsMovingInThreeDimensions(100)"
   ]
  },
  {
   "cell_type": "markdown",
   "metadata": {},
   "source": [
    "I guess this is sort of correct, the only problem being that there is no sum value displacement."
   ]
  },
  {
   "cell_type": "markdown",
   "metadata": {
    "collapsed": true
   },
   "source": [
    "# Problem 2: Brownian Motion"
   ]
  },
  {
   "cell_type": "code",
   "execution_count": 27,
   "metadata": {
    "collapsed": false
   },
   "outputs": [],
   "source": [
    "import random\n",
    "import numpy as np\n",
    "\n",
    "def ItsFuckedUpToStickADrunkGuyInABox(DrunkStepSample):\n",
    "    \n",
    "    DisplacementFromTestOrigin = [0,0]\n",
    "    a = [DisplacementFromTestOrigin]\n",
    "    \n",
    "    for i in range(DrunkStepSample):\n",
    "         \n",
    "        RandomDisplacement = random.randint(0,3)\n",
    "            \n",
    "        if RandomDisplacement == 0:\n",
    "            \n",
    "            Displacement = [1, 0]\n",
    "            \n",
    "        elif RandomDisplacement == 1:\n",
    "            \n",
    "            Displacement = [-1, 0]\n",
    "            \n",
    "        elif RandomDisplacement == 2:\n",
    "            \n",
    "            Displacement = [0, 1]\n",
    "        \n",
    "        else:\n",
    "            \n",
    "            Displacement = [0, -1]\n",
    "            \n",
    "        a = np.sum([[a], [Displacement]],)\n",
    "    \n",
    "    print (a)"
   ]
  },
  {
   "cell_type": "code",
   "execution_count": 28,
   "metadata": {
    "collapsed": false
   },
   "outputs": [
    {
     "name": "stdout",
     "output_type": "stream",
     "text": [
      "[[0, 0], -1, 0, -1, 0, 1, 0, 1, 0, -1, 0, -1, 0, 0, -1, 1, 0, 0, -1, 0, -1]\n"
     ]
    }
   ],
   "source": [
    "ItsFuckedUpToStickADrunkGuyInABox(10)"
   ]
  },
  {
   "cell_type": "code",
   "execution_count": 29,
   "metadata": {
    "collapsed": false
   },
   "outputs": [
    {
     "data": {
      "text/plain": [
       "6"
      ]
     },
     "execution_count": 29,
     "metadata": {},
     "output_type": "execute_result"
    }
   ],
   "source": [
    "np.sum([[0, 1], [0, 5]])"
   ]
  },
  {
   "cell_type": "code",
   "execution_count": 36,
   "metadata": {
    "collapsed": false
   },
   "outputs": [
    {
     "data": {
      "text/plain": [
       "17"
      ]
     },
     "execution_count": 36,
     "metadata": {},
     "output_type": "execute_result"
    }
   ],
   "source": [
    "sum([1, 5] + [4, 7])"
   ]
  },
  {
   "cell_type": "code",
   "execution_count": 78,
   "metadata": {
    "collapsed": false
   },
   "outputs": [
    {
     "data": {
      "text/plain": [
       "False"
      ]
     },
     "execution_count": 78,
     "metadata": {},
     "output_type": "execute_result"
    }
   ],
   "source": [
    "[40,51] > [50,50]"
   ]
  },
  {
   "cell_type": "markdown",
   "metadata": {},
   "source": [
    "I need to find a way create a np.sum for the array such that a is the sum of each step in the array. So we start with [0,0] we get a step of [0,1] so a adds that and becomes [0,1]. We then get another step of [-1,0], which a then adds and becomes [-1,1]. Then we get one more step of [0,1] and a adds it to become [-1,2]. ONce this is figured out, we just add a restraint to the loop in the form of, if x or y == 50 or -50, that variable gets a -1 instead of a 1 or a 1 instead of a -1."
   ]
  },
  {
   "cell_type": "code",
   "execution_count": 79,
   "metadata": {
    "collapsed": true
   },
   "outputs": [],
   "source": [
    "import random\n",
    "import numpy as np\n",
    "\n",
    "def ItsFuckedUpToStickADrunkGuyInABoxTake2(DrunkStepSample):\n",
    "    \n",
    "    DisplacementFromTestOrigin = [0,0]\n",
    "    a = [DisplacementFromTestOrigin]\n",
    "    Displacement = []\n",
    "    \n",
    "    for i in range(DrunkStepSample):\n",
    "         \n",
    "        RandomDisplacement = random.randint(0,3)\n",
    "            \n",
    "        if RandomDisplacement == 0:\n",
    "            \n",
    "            Displacement = [1, 0]\n",
    "            \n",
    "        elif RandomDisplacement == 1:\n",
    "            \n",
    "            Displacement = [-1, 0]\n",
    "            \n",
    "        elif RandomDisplacement == 2:\n",
    "            \n",
    "            Displacement = [0, 1]\n",
    "        \n",
    "        else:\n",
    "            \n",
    "            Displacement = [0, -1]\n",
    "            \n",
    "        \n",
    "        a.extend([Displacement])\n",
    "            \n",
    "        b = ([sum(x) for x in zip (*a)])\n",
    "    \n",
    "    print (a)\n",
    "    \n",
    "    print (b)"
   ]
  },
  {
   "cell_type": "code",
   "execution_count": 80,
   "metadata": {
    "collapsed": false
   },
   "outputs": [
    {
     "name": "stdout",
     "output_type": "stream",
     "text": [
      "[[0, 0], [1, 0], [-1, 0], [1, 0], [0, -1], [-1, 0], [-1, 0], [0, 1], [0, 1], [0, 1], [0, 1]]\n",
      "[-1, 3]\n"
     ]
    }
   ],
   "source": [
    "ItsFuckedUpToStickADrunkGuyInABoxTake2(10)"
   ]
  },
  {
   "cell_type": "markdown",
   "metadata": {},
   "source": [
    "I DID IT\n",
    "\n",
    "The goal now is to design an if function that checks b after every step to see if it appraoches 50 or -50 on each axis. if it does, instead of going passed it, the displacement is rejected and the negative of the displacement is instead added to the axis. This ensures that the drunk guy is confined to a box of 50 by 50."
   ]
  },
  {
   "cell_type": "code",
   "execution_count": 83,
   "metadata": {
    "collapsed": true
   },
   "outputs": [],
   "source": [
    "import random\n",
    "import numpy as np\n",
    "\n",
    "def ItsFuckedUpToStickADrunkGuyInABoxTake3(DrunkStepSample):\n",
    "    \n",
    "    DisplacementFromTestOrigin = [0,0]\n",
    "    a =([DisplacementFromTestOrigin])\n",
    "    Displacement = []\n",
    "    \n",
    "    for i in range(DrunkStepSample):\n",
    "         \n",
    "        RandomDisplacement = random.randint(0,3)\n",
    "            \n",
    "        if RandomDisplacement == 0:\n",
    "            \n",
    "            Displacement = [1, 0]\n",
    "            \n",
    "        elif RandomDisplacement == 1:\n",
    "            \n",
    "            Displacement = [-1, 0]\n",
    "            \n",
    "        elif RandomDisplacement == 2:\n",
    "            \n",
    "            Displacement = [0, 1]\n",
    "        \n",
    "        else:\n",
    "            \n",
    "            Displacement = [0, -1]\n",
    "            \n",
    "        \n",
    "        a.extend([Displacement])\n",
    "            \n",
    "        b = [sum(x) for x in zip (*a)]\n",
    "        \n",
    "        \n",
    "    \n",
    "    print (a)\n",
    "    print (b)"
   ]
  },
  {
   "cell_type": "code",
   "execution_count": 86,
   "metadata": {
    "collapsed": false
   },
   "outputs": [
    {
     "name": "stdout",
     "output_type": "stream",
     "text": [
      "[[0, 0], [1, 0], [0, -1], [1, 0], [1, 0], [0, 1], [-1, 0], [0, -1], [0, -1], [0, -1], [0, -1], [0, 1], [-1, 0], [1, 0], [0, 1], [1, 0], [0, 1], [-1, 0], [0, 1], [0, -1], [0, -1], [1, 0], [0, -1], [0, 1], [0, -1], [0, -1], [0, -1], [0, -1], [0, 1], [1, 0], [0, 1], [1, 0], [0, -1], [1, 0], [1, 0], [-1, 0], [0, -1], [0, -1], [-1, 0], [1, 0], [0, 1], [0, -1], [0, -1], [1, 0], [0, 1], [0, 1], [-1, 0], [1, 0], [0, -1], [0, 1], [0, -1], [1, 0], [0, -1], [-1, 0], [1, 0], [1, 0], [0, -1], [-1, 0], [-1, 0], [0, -1], [-1, 0], [1, 0], [0, 1], [0, 1], [-1, 0], [0, 1], [0, 1], [-1, 0], [-1, 0], [-1, 0], [0, 1], [0, -1], [0, -1], [0, -1], [-1, 0], [0, -1], [0, 1], [1, 0], [0, 1], [0, 1], [0, 1], [-1, 0], [0, 1], [0, 1], [1, 0], [0, 1], [1, 0], [1, 0], [0, 1], [0, 1], [-1, 0], [0, 1], [0, 1], [0, -1], [1, 0], [0, 1], [-1, 0], [0, 1], [0, 1], [0, -1], [-1, 0], [1, 0], [0, -1], [0, -1], [0, -1], [-1, 0], [-1, 0], [0, 1], [-1, 0], [-1, 0], [0, -1], [-1, 0], [1, 0], [1, 0], [0, -1], [0, 1], [1, 0], [1, 0], [0, 1], [0, -1], [0, 1], [1, 0], [0, -1], [0, 1], [0, -1], [-1, 0], [0, -1], [0, -1], [-1, 0], [0, 1], [0, 1], [0, -1], [0, -1], [0, -1], [0, 1], [-1, 0], [-1, 0], [-1, 0], [0, -1], [0, 1], [-1, 0], [0, -1], [-1, 0], [1, 0], [-1, 0], [-1, 0], [0, -1], [0, 1], [0, -1], [0, 1], [-1, 0], [0, -1], [0, 1], [0, 1], [0, -1], [0, -1], [-1, 0], [-1, 0], [0, -1], [-1, 0], [0, -1], [0, -1], [1, 0], [1, 0], [0, 1], [0, -1], [0, -1], [-1, 0], [1, 0], [0, 1], [1, 0], [0, 1], [0, -1], [-1, 0], [0, 1], [-1, 0], [0, -1], [-1, 0], [-1, 0], [1, 0], [0, -1], [0, -1], [0, -1], [-1, 0], [1, 0], [-1, 0], [0, 1], [0, -1], [-1, 0], [0, -1], [0, -1], [0, 1], [1, 0], [-1, 0], [0, -1], [1, 0], [0, -1], [0, -1], [1, 0], [0, -1], [1, 0], [0, -1], [0, -1], [-1, 0], [0, 1], [-1, 0], [0, -1], [-1, 0], [1, 0], [0, -1], [-1, 0], [0, -1], [0, 1], [0, 1], [-1, 0], [0, -1], [-1, 0], [1, 0], [0, 1], [0, 1], [0, 1], [0, 1], [0, 1], [1, 0], [1, 0], [0, -1], [1, 0], [0, -1], [-1, 0], [1, 0], [0, -1], [0, -1], [0, -1], [0, 1], [0, 1], [0, -1], [0, -1], [0, 1], [-1, 0], [-1, 0], [1, 0], [-1, 0], [0, 1], [0, 1], [-1, 0], [0, 1], [1, 0], [1, 0], [0, -1], [1, 0], [1, 0], [0, -1], [0, -1], [-1, 0], [0, 1], [0, 1], [0, 1], [1, 0], [0, 1], [0, 1], [1, 0], [0, -1], [0, 1], [0, -1], [0, 1], [-1, 0], [0, 1], [-1, 0], [0, -1], [0, 1], [0, -1], [1, 0], [-1, 0], [1, 0], [0, -1], [0, 1], [-1, 0], [-1, 0], [-1, 0], [-1, 0], [-1, 0], [1, 0], [1, 0], [-1, 0], [1, 0], [-1, 0], [1, 0], [0, -1], [-1, 0], [0, -1], [1, 0], [0, 1], [0, 1], [0, -1], [1, 0], [-1, 0], [0, -1], [1, 0], [1, 0], [-1, 0], [-1, 0], [0, -1], [-1, 0], [1, 0], [0, 1], [0, -1], [-1, 0], [0, -1], [1, 0], [0, -1], [1, 0], [1, 0], [1, 0], [0, -1], [0, -1], [1, 0], [0, -1], [0, 1], [-1, 0], [0, 1], [0, -1], [0, 1], [-1, 0], [1, 0], [-1, 0], [1, 0], [-1, 0], [1, 0], [-1, 0], [1, 0], [1, 0], [1, 0], [-1, 0], [0, 1], [0, 1], [1, 0], [-1, 0], [0, 1], [0, 1], [1, 0], [0, -1], [-1, 0], [1, 0], [1, 0], [0, -1], [0, 1], [0, 1], [0, -1], [1, 0], [1, 0], [0, 1], [1, 0], [1, 0], [0, 1], [0, 1], [0, 1], [0, 1], [1, 0], [0, 1], [0, -1], [-1, 0], [0, 1], [0, 1], [0, 1], [-1, 0], [0, 1], [0, 1], [-1, 0], [0, 1], [0, -1], [0, 1], [0, 1], [1, 0], [0, -1], [1, 0], [0, 1], [0, -1], [0, 1], [-1, 0], [-1, 0], [0, 1], [-1, 0], [0, -1], [1, 0], [0, 1], [1, 0], [-1, 0], [-1, 0], [-1, 0], [0, -1], [0, 1], [0, 1], [-1, 0], [1, 0], [1, 0], [0, -1], [0, 1], [-1, 0], [0, -1], [1, 0], [-1, 0], [0, -1], [1, 0], [-1, 0], [-1, 0], [0, -1], [0, -1], [0, -1], [0, -1], [1, 0], [1, 0], [1, 0], [1, 0], [1, 0], [-1, 0], [1, 0], [0, -1], [-1, 0], [0, -1], [1, 0], [-1, 0], [-1, 0], [-1, 0], [0, -1], [0, 1], [0, -1], [1, 0], [1, 0], [0, -1], [-1, 0], [-1, 0], [0, 1], [0, 1], [0, -1], [0, 1], [0, -1], [0, -1], [0, -1], [0, -1], [0, 1], [1, 0], [0, 1], [1, 0], [0, 1], [-1, 0], [0, 1], [0, 1], [0, -1], [-1, 0], [-1, 0], [-1, 0], [0, -1], [0, -1], [0, -1], [-1, 0], [-1, 0], [0, -1], [0, 1], [1, 0], [-1, 0], [0, -1], [0, 1], [0, -1], [0, -1], [1, 0], [0, -1], [1, 0], [0, 1], [0, -1], [-1, 0], [1, 0], [0, -1], [0, -1], [0, 1], [1, 0], [0, -1], [0, 1], [0, -1], [0, 1], [-1, 0], [0, -1], [1, 0], [1, 0], [0, -1], [0, 1], [0, 1], [0, -1], [0, 1], [0, -1], [-1, 0], [-1, 0], [1, 0], [1, 0], [0, 1], [-1, 0], [0, 1], [-1, 0], [1, 0], [0, -1], [0, -1], [1, 0], [0, 1], [-1, 0], [0, -1], [0, 1], [1, 0], [0, 1], [0, 1], [0, 1], [1, 0], [1, 0], [0, -1], [1, 0], [-1, 0], [-1, 0], [0, 1], [-1, 0], [0, -1], [-1, 0], [-1, 0], [0, 1], [0, 1], [0, -1], [1, 0], [1, 0], [0, 1], [0, 1], [1, 0], [0, -1], [0, 1], [1, 0], [1, 0], [-1, 0], [0, -1], [1, 0], [-1, 0], [-1, 0], [0, 1], [0, -1], [0, -1], [0, 1], [0, -1], [-1, 0], [-1, 0], [0, -1], [0, 1], [-1, 0], [0, 1], [0, 1], [-1, 0], [1, 0], [0, -1], [1, 0], [-1, 0], [0, -1], [0, 1], [0, -1], [0, -1], [0, -1], [1, 0], [-1, 0], [-1, 0], [0, 1], [0, 1], [0, -1], [0, 1], [0, -1], [1, 0], [1, 0], [1, 0], [-1, 0], [0, -1], [1, 0], [1, 0], [0, -1], [0, 1], [0, 1], [-1, 0], [1, 0], [0, 1], [0, -1], [-1, 0], [1, 0], [1, 0], [0, 1], [-1, 0], [-1, 0], [0, -1], [0, -1], [0, -1], [0, -1], [1, 0], [0, -1], [0, 1], [0, 1], [1, 0], [0, -1], [1, 0], [0, 1], [-1, 0], [-1, 0], [1, 0], [-1, 0], [0, -1], [0, 1], [-1, 0], [-1, 0], [1, 0], [0, 1], [1, 0], [-1, 0], [-1, 0], [0, 1], [0, 1], [0, 1], [-1, 0], [-1, 0], [0, 1], [0, -1], [-1, 0], [1, 0], [1, 0], [0, -1], [0, 1], [0, 1], [1, 0], [-1, 0], [0, 1], [0, -1], [-1, 0], [1, 0], [1, 0], [-1, 0], [1, 0], [1, 0], [1, 0], [-1, 0], [0, -1], [-1, 0], [-1, 0], [0, 1], [0, -1], [-1, 0], [-1, 0], [1, 0], [1, 0], [-1, 0], [1, 0], [-1, 0], [1, 0], [1, 0], [-1, 0], [0, 1], [0, 1], [0, 1], [-1, 0], [0, 1], [0, 1], [1, 0], [0, 1], [1, 0], [0, -1], [0, 1], [0, -1], [1, 0], [0, 1], [1, 0], [-1, 0], [0, -1], [0, -1], [0, 1], [1, 0], [-1, 0], [0, -1], [-1, 0], [1, 0], [0, -1], [0, -1], [1, 0], [-1, 0], [1, 0], [0, 1], [-1, 0], [-1, 0], [-1, 0], [-1, 0], [1, 0], [-1, 0], [1, 0], [0, 1], [0, -1], [1, 0], [1, 0], [0, -1], [1, 0], [1, 0], [0, 1], [0, 1], [-1, 0], [0, -1], [0, 1], [0, -1], [-1, 0], [-1, 0], [1, 0], [0, 1], [0, -1], [0, -1], [-1, 0], [0, 1], [-1, 0], [1, 0], [0, 1], [0, -1], [-1, 0], [0, -1], [-1, 0], [0, 1], [0, -1], [1, 0], [0, 1], [0, -1], [1, 0], [0, -1], [1, 0], [0, -1], [1, 0], [1, 0], [0, -1], [0, -1], [0, -1], [1, 0], [0, 1], [-1, 0], [0, -1], [0, 1], [-1, 0], [1, 0], [-1, 0], [-1, 0], [-1, 0], [0, -1], [-1, 0], [1, 0], [0, -1], [0, 1], [0, 1], [0, -1], [0, -1], [1, 0], [0, -1], [0, -1], [-1, 0], [0, 1], [-1, 0], [0, 1], [-1, 0], [1, 0], [1, 0], [0, -1], [0, 1], [0, -1], [-1, 0], [1, 0], [1, 0], [1, 0], [0, -1], [1, 0], [1, 0], [0, -1], [0, -1], [0, 1], [0, 1], [0, 1], [-1, 0], [0, 1], [0, -1], [1, 0], [1, 0], [-1, 0], [-1, 0], [-1, 0], [-1, 0], [0, -1], [0, 1], [0, 1], [1, 0], [0, 1], [1, 0], [0, 1], [1, 0], [1, 0], [0, 1], [0, -1], [1, 0], [1, 0], [0, 1], [1, 0], [0, -1], [-1, 0], [0, -1], [0, -1], [1, 0], [0, 1], [0, 1], [1, 0], [0, 1], [0, 1], [0, -1], [0, -1], [-1, 0], [-1, 0], [1, 0], [0, -1], [0, 1], [-1, 0], [0, -1], [0, -1], [-1, 0], [1, 0], [-1, 0], [-1, 0], [0, 1], [0, -1], [0, -1], [0, 1], [0, 1], [0, 1], [1, 0], [-1, 0], [1, 0], [0, -1], [1, 0], [-1, 0], [1, 0], [0, -1], [0, -1], [0, 1], [-1, 0], [0, -1], [0, -1], [-1, 0], [-1, 0], [0, 1], [1, 0], [1, 0], [1, 0], [-1, 0], [0, 1], [0, 1], [0, -1], [0, 1], [-1, 0], [0, -1], [1, 0], [0, 1], [1, 0], [-1, 0], [-1, 0], [0, -1], [1, 0], [0, 1], [-1, 0], [1, 0], [0, -1], [-1, 0], [0, -1], [0, -1], [0, -1], [0, 1], [1, 0], [-1, 0], [-1, 0], [0, -1], [0, 1], [0, 1], [-1, 0], [-1, 0], [0, 1], [1, 0], [0, -1], [-1, 0], [-1, 0], [-1, 0], [-1, 0], [0, -1], [0, -1], [1, 0], [0, 1], [0, -1], [1, 0], [-1, 0], [0, -1], [1, 0], [1, 0], [0, -1], [1, 0], [-1, 0], [0, -1], [1, 0], [-1, 0], [1, 0], [0, -1], [0, 1], [0, -1], [1, 0], [-1, 0], [0, 1], [-1, 0], [-1, 0], [0, -1], [-1, 0], [0, 1], [1, 0], [0, -1], [-1, 0], [0, -1], [0, 1], [0, -1], [0, 1], [1, 0], [0, 1], [1, 0], [0, -1], [0, 1], [0, -1], [-1, 0], [-1, 0], [-1, 0], [1, 0], [1, 0], [0, 1], [-1, 0], [0, 1], [0, -1], [-1, 0], [0, -1], [0, 1], [0, -1], [-1, 0], [1, 0], [-1, 0], [0, -1], [-1, 0], [0, 1], [0, -1], [-1, 0], [-1, 0], [0, 1], [0, 1], [1, 0], [0, -1], [-1, 0], [1, 0], [0, -1], [-1, 0], [-1, 0], [1, 0], [0, 1], [0, 1], [1, 0], [0, -1], [0, -1], [1, 0], [0, -1], [0, -1], [0, -1], [0, -1], [1, 0], [0, 1], [-1, 0], [1, 0], [1, 0], [1, 0], [0, -1], [1, 0], [-1, 0], [0, 1], [-1, 0], [1, 0], [-1, 0], [-1, 0], [1, 0], [0, -1], [0, -1], [-1, 0], [-1, 0], [-1, 0], [1, 0], [0, -1], [-1, 0], [0, 1], [0, -1], [0, 1], [0, 1], [0, 1], [-1, 0], [0, 1], [0, -1], [0, -1], [1, 0]]\n",
      "[-8, -28]\n"
     ]
    }
   ],
   "source": [
    "ItsFuckedUpToStickADrunkGuyInABoxTake3(1000)"
   ]
  },
  {
   "cell_type": "markdown",
   "metadata": {},
   "source": [
    "I can't figure out an efficient way of analyzing specific elements in the list of b. Ideally within every run I would be able to analyze the x and y axis of b to see if it over reaches through the confine of the box and then just add the negative of the displacement which placed the axis out of the box in order to fix this. The compare functions for lists are really confusing and only seem to work some of the times. I then tried turning b into an array to use numpy but I can't get anything appropriate to work. If I could figure this out, Problem 2b can be answered by having the random generator run 20 times instead of 1 time per pass, each dispalcement is added to a and split and zipped accordingly in b."
   ]
  },
  {
   "cell_type": "markdown",
   "metadata": {},
   "source": [
    "## Problem 3: Hyperspheres and Monte Carlo"
   ]
  },
  {
   "cell_type": "code",
   "execution_count": null,
   "metadata": {
    "collapsed": true
   },
   "outputs": [],
   "source": []
  }
 ],
 "metadata": {
  "kernelspec": {
   "display_name": "Python 3",
   "language": "python",
   "name": "python3"
  },
  "language_info": {
   "codemirror_mode": {
    "name": "ipython",
    "version": 3
   },
   "file_extension": ".py",
   "mimetype": "text/x-python",
   "name": "python",
   "nbconvert_exporter": "python",
   "pygments_lexer": "ipython3",
   "version": "3.6.0"
  }
 },
 "nbformat": 4,
 "nbformat_minor": 2
}
