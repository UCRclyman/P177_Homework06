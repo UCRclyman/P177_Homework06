{
 "cells": [
  {
   "cell_type": "markdown",
   "metadata": {
    "collapsed": false
   },
   "source": [
    "## Problem 1: Drunkard's Walk in One Dimension\n",
    "\n",
    "# 1A"
   ]
  },
  {
   "cell_type": "code",
   "execution_count": 53,
   "metadata": {
    "collapsed": true
   },
   "outputs": [],
   "source": [
    "import random\n",
    "import numpy as np\n",
    "\n",
    "def ProfessorTanedoAttemptingToTryAOneDimensionalStraightLineTest(DrunkStepSample):\n",
    "    \n",
    "    DisplacementFromTestOrigin = 0\n",
    "    a = [DisplacementFromTestOrigin]\n",
    "    b = DisplacementFromTestOrigin\n",
    "    \n",
    "    for i in range(DrunkStepSample):\n",
    "         \n",
    "        RandomDisplacement = random.randint(0,1)\n",
    "            \n",
    "        if RandomDisplacement > 0:\n",
    "            \n",
    "            Displacement = 1\n",
    "            \n",
    "        else:\n",
    "            \n",
    "            Displacement = -1\n",
    "            \n",
    "        b = (b + Displacement)\n",
    "        a.extend([b])\n",
    "        \n",
    "    c = a[:]\n",
    "    for i in range(DrunkStepSample):\n",
    "        c = [i**2 for i in a]\n",
    "            \n",
    "    \n",
    "    print (a,c)\n",
    "    \n",
    "    \n"
   ]
  },
  {
   "cell_type": "code",
   "execution_count": 54,
   "metadata": {
    "collapsed": false
   },
   "outputs": [
    {
     "name": "stdout",
     "output_type": "stream",
     "text": [
      "[0, 1, 0, 1, 0, 1, 2, 3, 2, 3, 2] [0, 1, 0, 1, 0, 1, 4, 9, 4, 9, 4]\n"
     ]
    }
   ],
   "source": [
    "ProfessorTanedoAttemptingToTryAOneDimensionalStraightLineTest(10)"
   ]
  },
  {
   "cell_type": "markdown",
   "metadata": {},
   "source": [
    "# 1B\n",
    "\n",
    "for this problem, I'm going to go with 100 walking drunk people and keep the sample size of drunk steps down to 100."
   ]
  },
  {
   "cell_type": "code",
   "execution_count": 76,
   "metadata": {
    "collapsed": false
   },
   "outputs": [],
   "source": [
    "def WhyAreThereSoManyDrunkPeople(nWalkers):\n",
    "    \n",
    "    DisplacementFromTestOrigin = 0\n",
    "    a = [DisplacementFromTestOrigin]\n",
    "    b = DisplacementFromTestOrigin\n",
    "    SumArray = []\n",
    "    \n",
    "    for i in range(nWalkers):\n",
    "    \n",
    "        for i in range(100):\n",
    "         \n",
    "            RandomDisplacement = random.randint(0,1)\n",
    "            \n",
    "            if RandomDisplacement > 0:\n",
    "            \n",
    "                Displacement = 1\n",
    "            \n",
    "            else:\n",
    "            \n",
    "                Displacement = -1\n",
    "            \n",
    "            b = (b + Displacement)\n",
    "            a.extend([b])\n",
    "        \n",
    "        c = a[:]\n",
    "        for i in range(100):\n",
    "            c = [i**2 for i in a]\n",
    "    d = np.sum(c[:])\n",
    "    SumArray.extend([d])\n",
    "        \n",
    "    print (SumArray)"
   ]
  },
  {
   "cell_type": "markdown",
   "metadata": {},
   "source": [
    "For some odd reason the SumArray which is supposed to be an array of all the sums isn't extending correctly. This problem if compiled correctly just needs to have a np.sum applied to it and then multiplied by the inverse of the nWalkers. Voila."
   ]
  },
  {
   "cell_type": "markdown",
   "metadata": {},
   "source": [
    "# 1C\n",
    "\n",
    "I'm going to try and approach this problem by setting the origin as a three point origin and then just adjusting each point dependant on where the random generator lands.\n",
    "\n",
    "Edit: Lmao reddit style, I originally wanted to do a large random generator that split the guy's movememnts from not only 6 possibly movements but I also wanted to add variation so that every step had chance to be slightly in a different direction."
   ]
  },
  {
   "cell_type": "code",
   "execution_count": 86,
   "metadata": {
    "collapsed": true
   },
   "outputs": [],
   "source": [
    "def HolyShitThisDrunkGuyIsMovingInThreeDimensions(StepSamples):\n",
    "    \n",
    "    DisplacementFromTestOrigin = [0, 0, 0]\n",
    "    a = [DisplacementFromTestOrigin]\n",
    "    b = [DisplacementFromTestOrigin]\n",
    "    \n",
    "    for i in range(StepSamples):\n",
    "         \n",
    "        RandomDisplacement = random.randint(0,5)\n",
    "            \n",
    "        if RandomDisplacement == 0:\n",
    "            \n",
    "            Displacement = [-1, 0 , 0]\n",
    "            \n",
    "        elif RandomDisplacement == 1:\n",
    "            \n",
    "            Displacement = [1, 0 , 0]\n",
    "            \n",
    "        elif RandomDisplacement == 2:\n",
    "            \n",
    "            Displacement = [0, -1, 0]\n",
    "            \n",
    "        elif RandomDisplacement == 3:\n",
    "            \n",
    "            Displacement = [0, 1, 0]\n",
    "            \n",
    "        elif RandomDisplacement == 4:\n",
    "            \n",
    "            Displacement = [0, 0, -1]\n",
    "            \n",
    "        else:\n",
    "            \n",
    "            Displacement = [0, 0, 1]\n",
    "            \n",
    "        b = Displacement\n",
    "        a.append(b)\n",
    "        \n",
    "    print(a)"
   ]
  },
  {
   "cell_type": "code",
   "execution_count": 87,
   "metadata": {
    "collapsed": false
   },
   "outputs": [
    {
     "name": "stdout",
     "output_type": "stream",
     "text": [
      "[[0, 0, 0], [0, 1, 0], [0, 0, 1], [0, -1, 0], [1, 0, 0], [0, 0, 1], [0, 0, -1], [0, -1, 0], [-1, 0, 0], [0, 0, -1], [0, 0, 1], [0, 0, 1], [1, 0, 0], [0, 0, -1], [1, 0, 0], [0, 0, 1], [0, 1, 0], [0, 0, -1], [1, 0, 0], [0, 0, -1], [0, -1, 0], [-1, 0, 0], [0, 0, 1], [0, -1, 0], [0, 0, 1], [0, 1, 0], [0, 1, 0], [0, 0, 1], [1, 0, 0], [0, 0, -1], [0, 0, -1], [-1, 0, 0], [-1, 0, 0], [0, -1, 0], [0, 0, 1], [0, 0, -1], [-1, 0, 0], [0, -1, 0], [-1, 0, 0], [-1, 0, 0], [0, 1, 0], [0, -1, 0], [0, 1, 0], [0, 0, -1], [-1, 0, 0], [0, 0, 1], [0, 0, 1], [-1, 0, 0], [0, 1, 0], [0, -1, 0], [1, 0, 0], [0, 0, 1], [0, 1, 0], [0, 1, 0], [-1, 0, 0], [0, 1, 0], [0, 0, -1], [-1, 0, 0], [0, 1, 0], [-1, 0, 0], [-1, 0, 0], [0, 1, 0], [0, -1, 0], [0, 0, -1], [1, 0, 0], [0, 1, 0], [0, 1, 0], [-1, 0, 0], [0, -1, 0], [1, 0, 0], [-1, 0, 0], [0, -1, 0], [0, 0, -1], [1, 0, 0], [1, 0, 0], [0, 1, 0], [0, -1, 0], [0, 0, -1], [0, -1, 0], [0, 0, 1], [1, 0, 0], [0, 0, 1], [0, 0, -1], [0, 0, 1], [0, 0, 1], [-1, 0, 0], [0, 1, 0], [0, 0, 1], [0, 0, -1], [0, 0, 1], [0, 0, -1], [0, 1, 0], [0, 0, 1], [1, 0, 0], [0, 1, 0], [0, 0, 1], [1, 0, 0], [1, 0, 0], [-1, 0, 0], [0, 0, -1], [0, -1, 0]]\n"
     ]
    }
   ],
   "source": [
    "HolyShitThisDrunkGuyIsMovingInThreeDimensions(100)"
   ]
  },
  {
   "cell_type": "markdown",
   "metadata": {},
   "source": [
    "I guess this is sort of correct, the only problem being that there is no sum value displacement."
   ]
  },
  {
   "cell_type": "code",
   "execution_count": null,
   "metadata": {
    "collapsed": true
   },
   "outputs": [],
   "source": []
  }
 ],
 "metadata": {
  "kernelspec": {
   "display_name": "Python 3",
   "language": "python",
   "name": "python3"
  },
  "language_info": {
   "codemirror_mode": {
    "name": "ipython",
    "version": 3
   },
   "file_extension": ".py",
   "mimetype": "text/x-python",
   "name": "python",
   "nbconvert_exporter": "python",
   "pygments_lexer": "ipython3",
   "version": "3.6.0"
  }
 },
 "nbformat": 4,
 "nbformat_minor": 2
}
